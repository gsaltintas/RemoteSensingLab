{
 "cells": [
  {
   "cell_type": "code",
   "execution_count": 1,
   "metadata": {},
   "outputs": [],
   "source": [
    "# Rodrigo Caye Daudt\n",
    "# rodrigo.cayedaudt@geod.baug.ethz.ch\n",
    "# 02/2021\n",
    "\n",
    "\n",
    "from glob import glob\n",
    "import os\n",
    "import numpy as np\n"
   ]
  },
  {
   "cell_type": "code",
   "execution_count": 8,
   "metadata": {},
   "outputs": [],
   "source": [
    "ORIGIN_FOLDER = '../week3/outputs'  # folder containing points_*.npz\n",
    "OUTPUT_FOLDER = './xyz_files'\n",
    "\n",
    "if not os.path.exists(OUTPUT_FOLDER):\n",
    "    os.mkdir(OUTPUT_FOLDER)"
   ]
  },
  {
   "cell_type": "code",
   "execution_count": 3,
   "metadata": {},
   "outputs": [],
   "source": [
    "\n",
    "def convert_to_xyz(file_path, output_folder=OUTPUT_FOLDER):\n",
    "    coords = np.load(file_path)['arr_0']\n",
    "    output_path = os.path.join(output_folder, file_path.split('/')[-1]).replace('.npz', '.xyz')\n",
    "    if os.path.exists(output_path):\n",
    "        os.remove(output_path)\n",
    "    with open(output_path, 'w') as f:\n",
    "        f.write('X,Y,Z\\n')\n",
    "        for i in range(coords.shape[1]):\n",
    "            f.write(f'{coords[0,i]},{coords[1,i]},{coords[2,i]}\\n')\n"
   ]
  },
  {
   "cell_type": "code",
   "execution_count": 10,
   "metadata": {},
   "outputs": [
    {
     "name": "stdout",
     "output_type": "stream",
     "text": [
      "Processing ../week3/outputs/points_scene_1_15x15.npz...\n",
      "Processing ../week3/outputs/points_scene_1_7x7.npz...\n",
      "Processing ../week3/outputs/points_scene_2_15x15.npz...\n",
      "Processing ../week3/outputs/points_scene_2_7x7.npz...\n",
      "Done.\n"
     ]
    }
   ],
   "source": [
    "file_list = sorted(glob(os.path.join(ORIGIN_FOLDER, 'points_*.npz')))\n",
    "\n",
    "for file in file_list:\n",
    "    print(f'Processing {file}...')\n",
    "    convert_to_xyz(file)\n",
    "print('Done.')\n"
   ]
  },
  {
   "cell_type": "code",
   "execution_count": 9,
   "metadata": {},
   "outputs": [
    {
     "data": {
      "text/plain": [
       "['../week3/outputs/points_scene_1_15x15.npz',\n",
       " '../week3/outputs/points_scene_1_7x7.npz',\n",
       " '../week3/outputs/points_scene_2_15x15.npz',\n",
       " '../week3/outputs/points_scene_2_7x7.npz']"
      ]
     },
     "execution_count": 9,
     "metadata": {},
     "output_type": "execute_result"
    }
   ],
   "source": [
    "file_list = sorted(glob(os.path.join(ORIGIN_FOLDER, 'points_*.npz')))\n",
    "file_list"
   ]
  },
  {
   "cell_type": "code",
   "execution_count": 7,
   "metadata": {
    "scrolled": true
   },
   "outputs": [
    {
     "data": {
      "text/plain": [
       "'/home/gsa/code/remote-sensing/week4'"
      ]
     },
     "execution_count": 7,
     "metadata": {},
     "output_type": "execute_result"
    }
   ],
   "source": [
    "os.getcwd()"
   ]
  },
  {
   "cell_type": "code",
   "execution_count": null,
   "metadata": {},
   "outputs": [],
   "source": []
  }
 ],
 "metadata": {
  "kernelspec": {
   "display_name": "Python 3",
   "language": "python",
   "name": "python3"
  },
  "language_info": {
   "codemirror_mode": {
    "name": "ipython",
    "version": 3
   },
   "file_extension": ".py",
   "mimetype": "text/x-python",
   "name": "python",
   "nbconvert_exporter": "python",
   "pygments_lexer": "ipython3",
   "version": "3.9.7"
  }
 },
 "nbformat": 4,
 "nbformat_minor": 2
}
