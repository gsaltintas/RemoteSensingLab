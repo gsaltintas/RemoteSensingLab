{
 "cells": [
  {
   "cell_type": "code",
   "execution_count": 5,
   "metadata": {},
   "outputs": [],
   "source": [
    "# Rodrigo Caye Daudt\n",
    "# rodrigo.cayedaudt@geod.baug.ethz.ch\n",
    "# 02/2021\n",
    "\n",
    "from skimage import io\n",
    "import numpy as np\n",
    "import os\n",
    "%matplotlib inline\n",
    "import matplotlib\n",
    "import matplotlib.pyplot as plt\n",
    "from tqdm import tqdm\n",
    "from scipy import io as sio\n",
    "\n",
    "import rpc\n",
    "import cross_correlation\n",
    "\n",
    "%load_ext autoreload\n",
    "%autoreload 2"
   ]
  },
  {
   "cell_type": "code",
   "execution_count": 6,
   "metadata": {},
   "outputs": [],
   "source": [
    "# General parameters\n",
    "\n",
    "# Choose which scene will be analysed\n",
    "SCENE_NUMBER = 1 # 1 or 2\n",
    "\n",
    "FORCE_RECOMPUTE = False # If True, ignores saved .npz files\n",
    "\n",
    "# Define parameters\n",
    "template_radius = 7 # 3 or 7 for a window of size 7 or 15\n",
    "stride = 5 # 25 or 50 for testing code, 5 for generating final results\n",
    "search_window_radius = 10 + template_radius # don't change this"
   ]
  },
  {
   "cell_type": "code",
   "execution_count": 7,
   "metadata": {},
   "outputs": [],
   "source": [
    "# Load data\n",
    "\n",
    "# Load images\n",
    "img1 = io.imread('data/pan000_wal8_scene{}.tif'.format(str(SCENE_NUMBER)))\n",
    "img2 = io.imread('data/pan001_wal8_scene{}.tif'.format(str(SCENE_NUMBER)))\n",
    "\n",
    "# Load affine transform\n",
    "mat = sio.loadmat('data/Aff.mat')\n",
    "aff1 = mat['Aff1']\n",
    "aff2 = mat['Aff2']\n",
    "\n",
    "# Load RPCs\n",
    "mat = sio.loadmat('data/rpcs.mat')\n",
    "coeff1 = mat['coeff1']\n",
    "I1 = mat['I1']\n",
    "O1 = mat['O1']\n",
    "coeff2 = mat['coeff2']\n",
    "I2 = mat['I2']\n",
    "O2 = mat['O2']\n",
    "\n",
    "# Load approximate position values\n",
    "# Explanation: pixel [i,j] in image 1 can be found approximately in location [approxY[i,j],approxX[i,j]] in image 2\n",
    "mat = sio.loadmat('data/approx_scene{}.mat'.format(str(SCENE_NUMBER)))\n",
    "approxX = mat['approxX']\n",
    "approxY = mat['approxY']\n",
    "del(mat)\n",
    "\n",
    "# Create output folder\n",
    "if not os.path.exists('./outputs'):\n",
    "    os.mkdir('./outputs')"
   ]
  },
  {
   "cell_type": "code",
   "execution_count": 8,
   "metadata": {},
   "outputs": [
    {
     "data": {
      "text/plain": [
       "((2000, 1800), (2000, 1800), (2000, 1800))"
      ]
     },
     "execution_count": 8,
     "metadata": {},
     "output_type": "execute_result"
    }
   ],
   "source": [
    "approxX.shape, approxY.shape, img1.shape"
   ]
  },
  {
   "cell_type": "code",
   "execution_count": 9,
   "metadata": {},
   "outputs": [
    {
     "data": {
      "text/plain": [
       "array([[ 2,  8],\n",
       "       [ 2, 18]])"
      ]
     },
     "execution_count": 9,
     "metadata": {},
     "output_type": "execute_result"
    }
   ],
   "source": [
    "h1 = np.array([[1, 2], [2, 3]])\n",
    "h2 = np.array([[2, 4], [1, 6]])\n",
    "m1 = np.mean(h1, axis=None)\n",
    "h1 * h2"
   ]
  },
  {
   "cell_type": "code",
   "execution_count": 10,
   "metadata": {},
   "outputs": [
    {
     "data": {
      "text/plain": [
       "2.0"
      ]
     },
     "execution_count": 10,
     "metadata": {},
     "output_type": "execute_result"
    }
   ],
   "source": [
    "m1"
   ]
  },
  {
   "cell_type": "code",
   "execution_count": 11,
   "metadata": {},
   "outputs": [
    {
     "data": {
      "text/plain": [
       "(1.0,\n",
       " array([[-0.5, -0.5],\n",
       "        [ 0.5,  0.5]]))"
      ]
     },
     "execution_count": 11,
     "metadata": {},
     "output_type": "execute_result"
    }
   ],
   "source": [
    "np.linalg.norm(cross_correlation.normalize(h1)), cross_correlation.normalize(h1)"
   ]
  },
  {
   "cell_type": "code",
   "execution_count": 12,
   "metadata": {},
   "outputs": [
    {
     "data": {
      "text/plain": [
       "(array([[1, 2],\n",
       "        [2, 3]]),\n",
       " array([1.5, 2.5]))"
      ]
     },
     "execution_count": 12,
     "metadata": {},
     "output_type": "execute_result"
    }
   ],
   "source": [
    "h1, np.mean(h1, axis=1)"
   ]
  },
  {
   "cell_type": "code",
   "execution_count": 13,
   "metadata": {
    "tags": []
   },
   "outputs": [
    {
     "name": "stderr",
     "output_type": "stream",
     "text": [
      "100%|█████████████████████████████████████████████████████████████████████████████████████████████████████████████████████████████| 398/398 [1:24:06<00:00, 12.68s/it]\n"
     ]
    }
   ],
   "source": [
    "# Main normalized cross correlation loop - results are saved the first time and loaded by default for convenience\n",
    "# IMPORTANT NOTE: axis 0 is Y and axis 1 is X\n",
    "\n",
    "force_points_recompute = False\n",
    "FORCE_RECOMPUTE = False\n",
    "if FORCE_RECOMPUTE or not os.path.exists(f'outputs/matches_scene_{SCENE_NUMBER}_{2*template_radius+1}x{2*template_radius+1}_stride_{stride}.npz'):\n",
    "    force_points_recompute = True \n",
    "\n",
    "    # Initialize variables to store coordinates X and Y in images 1 and 2, as well as normalized cross correlation\n",
    "    matched_points_x_img1 = []\n",
    "    matched_points_y_img1 = []\n",
    "    matched_points_x_img2 = []\n",
    "    matched_points_y_img2 = []\n",
    "    matched_points_ncc = []\n",
    "\n",
    "    # Initialize varialbes for visualizing ncc and displacement\n",
    "    ncc_vis = -np.ones((len(range(0, img1.shape[0], stride)), len(range(0, img1.shape[1], stride))))\n",
    "    displacement_vis = -np.ones((len(range(0, img1.shape[0], stride)), len(range(0, img1.shape[1], stride))))\n",
    "\n",
    "    # Main loop\n",
    "    for i_vis,i in enumerate(tqdm(range(template_radius, img1.shape[0] - template_radius, stride))):\n",
    "        for j_vis,j in enumerate(range(template_radius, img1.shape[1] - template_radius, stride)):\n",
    "\n",
    "            # Cut template image from img1 \n",
    "            template = img1[i - template_radius : i + template_radius + 1, j - template_radius: j + template_radius + 1]\n",
    "\n",
    "            # Find approximate target location and cut search area from img2\n",
    "            # Make sure cut window fall inside image boundaries\n",
    "            y_c = approxY[i, j] + i # window center using i and approxY\n",
    "            y0 = y_c - search_window_radius\n",
    "            y1 = y_c + search_window_radius + 1\n",
    "            x_c = approxX[i, j] + j # window center using j and approxX\n",
    "            x0 = x_c - search_window_radius\n",
    "            x1 = x_c + search_window_radius + 1\n",
    "            assert img2.shape[0] > y1 > y0 > 0 and img2.shape[1] > x1 > x0 > 0 \n",
    "            search_area = img2[y0:y1, x0:x1]\n",
    "            \n",
    "            # Assert search_area is bigger than template (size could be squished around boundaries)\n",
    "            x_check = search_area.shape[1] > template_radius * 2 + 1\n",
    "            y_check = search_area.shape[0] > template_radius * 2 + 1\n",
    "            if not x_check or not y_check:\n",
    "                print(f'Warning: search area size too small in pixel ({i}, {j}). Skipping...')\n",
    "                continue\n",
    "\n",
    "            # Call cross_correlation, you need to fill in this function\n",
    "            dx, dy, ncc = cross_correlation.cross_correlation(template, search_area)\n",
    "\n",
    "#             print(dx, dy, ncc)\n",
    "            # Save lists with information about matched points\n",
    "            # Be very careful to consider all the offsets to store coordinates\n",
    "            matched_points_x_img1.append(j)\n",
    "            matched_points_y_img1.append(i)\n",
    "            matched_points_x_img2.append(dx + x0)\n",
    "            matched_points_y_img2.append(dy + y0)\n",
    "            matched_points_ncc.append(ncc)\n",
    "\n",
    "\n",
    "            # Mark matched points\n",
    "            ncc_vis[i_vis,j_vis] = ncc\n",
    "            displacement_vis[i_vis,j_vis] = np.linalg.norm([matched_points_x_img2[-1] - matched_points_x_img1[-1], matched_points_y_img2[-1] - matched_points_y_img1[-1]])\n",
    "\n",
    "    # Save results\n",
    "    np.savez(f'outputs/matches_scene_{SCENE_NUMBER}_{2*template_radius+1}x{2*template_radius+1}.npz', matched_points_x_img1, matched_points_y_img1, matched_points_x_img2, matched_points_y_img2, matched_points_ncc, ncc_vis, displacement_vis)\n",
    "\n",
    "else:\n",
    "    # Load results if they already exist\n",
    "    print('Loading previous results...')\n",
    "    npzfile = np.load(f'outputs/matches_scene_{SCENE_NUMBER}_{2*template_radius+1}x{2*template_radius+1}_stride_{stride}.npz')\n",
    "    matched_points_x_img1 = npzfile['arr_0']\n",
    "    matched_points_y_img1 = npzfile['arr_1']\n",
    "    matched_points_x_img2 = npzfile['arr_2']\n",
    "    matched_points_y_img2 = npzfile['arr_3']\n",
    "    matched_points_ncc = npzfile['arr_4']\n",
    "    ncc_vis = npzfile['arr_5']\n",
    "    displacement_vis = npzfile['arr_6']\n",
    "   "
   ]
  },
  {
   "cell_type": "code",
   "execution_count": 14,
   "metadata": {},
   "outputs": [
    {
     "data": {
      "text/plain": [
       "0.8391235986126907"
      ]
     },
     "execution_count": 14,
     "metadata": {},
     "output_type": "execute_result"
    }
   ],
   "source": [
    "matched_points_y_img1[-5: ], matched_points_y_img2[-5: ]\n",
    "# np.min(approxY), np.max(approxY), np.min(approxX), np.max(approxX)\n",
    "# approxX[:5], approxY[:5]\n",
    "np.mean(matched_points_ncc)"
   ]
  },
  {
   "cell_type": "code",
   "execution_count": 15,
   "metadata": {},
   "outputs": [
    {
     "data": {
      "text/plain": [
       "array([-81, -81, -81, ..., -87, -86, -87])"
      ]
     },
     "execution_count": 15,
     "metadata": {},
     "output_type": "execute_result"
    }
   ],
   "source": [
    "np.array(matched_points_x_img1) - np.array(matched_points_x_img2)\n",
    "np.array(matched_points_y_img1) - np.array(matched_points_y_img2)\n",
    "# np.min(ncc_vis), np.max(ncc_vis)"
   ]
  },
  {
   "cell_type": "code",
   "execution_count": null,
   "metadata": {},
   "outputs": [],
   "source": [
    "# Plot and save\n",
    "\n",
    "# NCC\n",
    "ncc_vis2 = ncc_vis.copy()\n",
    "ncc_vis2[ncc_vis < 0.6] = 0\n",
    "fig = plt.figure()\n",
    "io.imshow(ncc_vis2, cmap='jet')\n",
    "plt.title('Normalized cross correlation')\n",
    "io.imsave(f'outputs/scene_{SCENE_NUMBER}-01-ncc_{2*template_radius+1}x{2*template_radius+1}.png', 0.5 + 0.5 * ncc_vis)\n",
    "plt.savefig(f'outputs/scene_{SCENE_NUMBER}-01-ncc_{2*template_radius+1}x{2*template_radius+1}.pdf')\n",
    "\n",
    "# Displacement\n",
    "# the vector difference between the matched point in img1 and img2\n",
    "plt.figure()\n",
    "plt.title('Displacement')\n",
    "io.imshow(displacement_vis, cmap='jet')\n",
    "io.imsave(f'outputs/scene_{SCENE_NUMBER}-02-displacement_{2*template_radius+1}x{2*template_radius+1}.png', displacement_vis / displacement_vis.max())\n",
    "plt.savefig(f'outputs/scene_{SCENE_NUMBER}-02-displacement_{2*template_radius+1}x{2*template_radius+1}.pdf')"
   ]
  },
  {
   "cell_type": "code",
   "execution_count": 17,
   "metadata": {},
   "outputs": [
    {
     "data": {
      "text/plain": [
       "(0.0, 0.9985521343394818)"
      ]
     },
     "execution_count": 17,
     "metadata": {},
     "output_type": "execute_result"
    }
   ],
   "source": [
    "np.min(ncc_vis2), np.max(ncc_vis2)"
   ]
  },
  {
   "cell_type": "code",
   "execution_count": null,
   "metadata": {
    "tags": []
   },
   "outputs": [
    {
     "name": "stderr",
     "output_type": "stream",
     "text": [
      "  0%|                                                                                                                                      | 0/142484 [00:00<?, ?it/s]/home/gsa/code/remote-sensing/week3/rpc.py:62: FutureWarning: `rcond` parameter will change to the default of machine precision times ``max(M, N)`` where M and N are the input matrix dimensions.\n",
      "To use the future default and silence this warning we advise to pass `rcond=None`, to keep using the old, explicitly pass `rcond=-1`.\n",
      "  out, _, _, _ = np.linalg.lstsq(A, x)\n",
      "  9%|██████████▍                                                                                                             | 12319/142484 [29:05<5:33:47,  6.50it/s]"
     ]
    }
   ],
   "source": [
    "# Forward intersection\n",
    "\n",
    "if FORCE_RECOMPUTE or force_points_recompute or not os.path.exists(f'outputs/points_scene_{SCENE_NUMBER}_{2*template_radius+1}x{2*template_radius+1}.npz'):\n",
    "\n",
    "    # Offsets that were used to crop images 1 and 2 for scenes 1 and 2\n",
    "    if SCENE_NUMBER == 1:\n",
    "        cut_image1 = np.array([6900, 11000, 0])\n",
    "        cut_image2 = cut_image1 + [-50, -200, 0]\n",
    "    elif SCENE_NUMBER == 2:\n",
    "        cut_image1 = np.array([800, 14200, 0])\n",
    "        cut_image2 = cut_image1 + [-150, -100, 0]\n",
    "    else:\n",
    "        print('Scene number must be 1 or 2.')\n",
    "        raise Exception\n",
    "\n",
    "    # Initial value for iterative search in forward intersection. Don't change this value, it works for all points.\n",
    "    X0 = np.array([46.0, 7.0, 650.0, 1.0])\n",
    "\n",
    "    X = np.zeros((4,0))\n",
    "    for i in tqdm(range(len(matched_points_ncc))):\n",
    "        if matched_points_ncc[i] >= 0.6:\n",
    "            # Define point coordinates in image 1 and image 2 (considering cut offset)\n",
    "            x1 = [matched_points_x_img1[i], matched_points_y_img1[i], 1] + cut_image1\n",
    "            x2 = [matched_points_x_img2[i], matched_points_y_img2[i], 1] + cut_image2\n",
    "\n",
    "            # Affine RPC refinement\n",
    "            xc1 = np.matmul(np.linalg.pinv(aff1), x1)\n",
    "            xc2 = np.matmul(np.linalg.pinv(aff2), x2)\n",
    "            \n",
    "            # Forward intersection \n",
    "            X_new = rpc.rpc_inv(X0.copy(),xc1,xc2,coeff1,I1,O1,coeff2,I2,O2)\n",
    "            \n",
    "            \n",
    "            # Store result\n",
    "            X = np.concatenate((X,X_new), axis=1)\n",
    "\n",
    "    # Convert points back to UTM 32 N    \n",
    "    Xn, utm_zones = rpc.deg2utm(X)\n",
    "\n",
    "\n",
    "    print('Saving points...')\n",
    "    np.savez(f'outputs/points_scene_{SCENE_NUMBER}_{2*template_radius+1}x{2*template_radius+1}.npz', Xn, utm_zones)\n",
    "    print('\\nSaved. Use visaluse_points.py to plot points.')\n",
    "else:\n",
    "    print('Loading previous points...')\n",
    "    X = np.load(f'outputs/points_scene_{SCENE_NUMBER}_{2*template_radius+1}x{2*template_radius+1}.npz')['arr_0']"
   ]
  },
  {
   "cell_type": "code",
   "execution_count": 44,
   "metadata": {},
   "outputs": [
    {
     "data": {
      "image/png": "[encoded data removed]",
      "text/plain": [
       "<Figure size 432x288 with 1 Axes>"
      ]
     },
     "metadata": {
      "needs_background": "light"
     },
     "output_type": "display_data"
    }
   ],
   "source": [
    "# visualize matches\n",
    "\n",
    "from mpl_toolkits.mplot3d import Axes3D\n",
    "\n",
    "RADIUS = template_radius\n",
    "\n",
    "if not os.path.exists(f'outputs/points_scene_{SCENE_NUMBER}_{2*RADIUS+1}x{2*RADIUS+1}.npz'):\n",
    "    print('\\n\\nPoints must me precomputed.\\n\\n')\n",
    "    raise Exception\n",
    "\n",
    "X = np.load(f'outputs/points_scene_{SCENE_NUMBER}_{2*RADIUS+1}x{2*RADIUS+1}.npz')['arr_0']\n",
    "\n",
    "fig = plt.figure()\n",
    "ax = fig.add_subplot(111, projection='3d')\n",
    "ax.scatter(X[0,:], X[1,:], X[2,:], marker='.')\n",
    "plt.show()"
   ]
  },
  {
   "cell_type": "code",
   "execution_count": 62,
   "metadata": {},
   "outputs": [
    {
     "data": {
      "text/plain": [
       "(4, 4161)"
      ]
     },
     "execution_count": 62,
     "metadata": {},
     "output_type": "execute_result"
    }
   ],
   "source": [
    "Xn.shape"
   ]
  },
  {
   "cell_type": "code",
   "execution_count": null,
   "metadata": {},
   "outputs": [],
   "source": []
  }
 ],
 "metadata": {
  "kernelspec": {
   "display_name": "Python 3",
   "language": "python",
   "name": "python3"
  },
  "language_info": {
   "codemirror_mode": {
    "name": "ipython",
    "version": 3
   },
   "file_extension": ".py",
   "mimetype": "text/x-python",
   "name": "python",
   "nbconvert_exporter": "python",
   "pygments_lexer": "ipython3",
   "version": "3.9.7"
  }
 },
 "nbformat": 4,
 "nbformat_minor": 4
}
