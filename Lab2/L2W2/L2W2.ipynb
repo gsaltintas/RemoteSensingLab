{
 "cells": [
  {
   "cell_type": "code",
   "execution_count": 1,
   "metadata": {},
   "outputs": [],
   "source": [
    "# Rodrigo Caye Daudt\n",
    "# rodrigo.cayedaudt@geod.baug.ethz.ch\n",
    "# 04/2021\n",
    "\n",
    "%matplotlib inline\n",
    "import numpy as np\n",
    "from skimage import io\n",
    "import matplotlib\n",
    "import matplotlib.pyplot as plt\n",
    "import os\n",
    "from scipy.stats import multivariate_normal\n",
    "from sklearn.svm import LinearSVC\n",
    "\n",
    "import utils\n",
    "\n",
    "%load_ext autoreload\n",
    "%autoreload 2\n",
    "\n",
    "if not os.path.exists('./outputs'):\n",
    "    os.mkdir('./outputs')"
   ]
  },
  {
   "cell_type": "code",
   "execution_count": 5,
   "metadata": {},
   "outputs": [
    {
     "data": {
      "text/plain": [
       "'/home/gsa/code/remote_sensing/Lab_2/L2W2'"
      ]
     },
     "execution_count": 5,
     "metadata": {},
     "output_type": "execute_result"
    }
   ],
   "source": [
    "import os\n",
    "os.getcwd()"
   ]
  },
  {
   "cell_type": "code",
   "execution_count": null,
   "metadata": {},
   "outputs": [],
   "source": []
  },
  {
   "cell_type": "code",
   "execution_count": 2,
   "metadata": {},
   "outputs": [
    {
     "name": "stderr",
     "output_type": "stream",
     "text": [
      "Lossy conversion from float64 to uint8. Range [0, 1]. Convert image to uint8 prior to saving to suppress this warning.\n"
     ]
    },
    {
     "name": "stdout",
     "output_type": "stream",
     "text": [
      "Number of pixels in class \"forest\": 11722\n",
      "Number of pixels in class \"water\": 148204\n",
      "Number of pixels in class \"clouds\": 83733\n",
      "Number of pixels in class \"fields (green)\": 5188\n",
      "Number of pixels in class \"fields (brown)\": 1130\n",
      "Number of pixels in class \"cities\": 47144\n",
      "Number of pixels in class \"snow\": 104004\n",
      "Number of pixels in class \"rock\": 82132\n"
     ]
    }
   ],
   "source": [
    "# Read images and labels\n",
    "\n",
    "# Sentinel band names\n",
    "band_names = [\n",
    "    'band2', \n",
    "    'band3', \n",
    "    'band4', \n",
    "    'band5', \n",
    "    'band6', \n",
    "    'band7', \n",
    "    'band8', \n",
    "    'band8a', \n",
    "    'band11', \n",
    "    'band12', \n",
    "]\n",
    "\n",
    "# Band wavelengths in nm\n",
    "wavelengths = [490, 560, 665, 705, 740, 783, 842, 865, 1610, 2190]\n",
    "\n",
    "# Load images\n",
    "img_dict = {}\n",
    "for bn in band_names:\n",
    "    img_dict[bn] = io.imread(f'../raw_data/sentinel2_{bn}.tif') / (2 ** 16)\n",
    "\n",
    "\n",
    "# Save non-georeferenced RGB for evaluating results\n",
    "rgb = np.zeros((img_dict[band_names[0]].shape[0], img_dict[band_names[0]].shape[1], 3))\n",
    "for i, band in enumerate(['band4', 'band3', 'band2']):\n",
    "    rgb[:,:,i] = img_dict[band] * (2 ** 5)\n",
    "io.imsave(f'outputs/00-rgb.png', np.clip(rgb, 0, 1))\n",
    "\n",
    "\n",
    "# Class labels\n",
    "labels = io.imread('labels.tif')\n",
    "\n",
    "# Class masks\n",
    "classes_dict = {\n",
    "    'forest': 1,\n",
    "    'water': 2,\n",
    "    'clouds': 3,\n",
    "    'fields (green)': 4,\n",
    "    'fields (brown)': 5,\n",
    "    'cities': 6,\n",
    "    'snow': 7,\n",
    "    'rock': 8,\n",
    "}\n",
    "\n",
    "# Extract class masks from labels\n",
    "masks_dict = {}\n",
    "min_np = np.inf # minimum number of pixels in a class\n",
    "for class_name in classes_dict.keys():\n",
    "    masks_dict[class_name] = labels == classes_dict[class_name]\n",
    "    print(f'Number of pixels in class \"{class_name}\": {masks_dict[class_name].sum()}')\n",
    "    min_np = min(min_np, masks_dict[class_name].sum())\n",
    "\n",
    "if min_np < 100:\n",
    "    print('WARNING: at least one of the classes contain very few examples (<100 pixels).')\n"
   ]
  },
  {
   "cell_type": "markdown",
   "metadata": {},
   "source": [
    "# Bayes Rule Classifier"
   ]
  },
  {
   "cell_type": "code",
   "execution_count": 3,
   "metadata": {},
   "outputs": [],
   "source": [
    "# Calculate mean per band and per class\n",
    "\n",
    "mean_dict = {}\n",
    "cov_dict = {}\n",
    "data_dict = {}\n",
    "for class_name in classes_dict.keys():\n",
    "    # Mean\n",
    "    spectral_profile = []\n",
    "    for band in band_names:\n",
    "        spectral_profile.append(np.mean(img_dict[band][masks_dict[class_name]]))\n",
    "    mean_dict[class_name] = spectral_profile\n",
    "\n",
    "    # Assemble data for all bands in pixels of the current class in matrix form\n",
    "    x = np.zeros((len(band_names), masks_dict[class_name].sum())) # axis 0: class index | axis 1: instance index\n",
    "    for i, band in enumerate(band_names):\n",
    "#         x[i] = 'FILL_IN_YOUR_CODE_HERE' # subtracting mean is not necessary if using np.cov\n",
    "        x[i] = img_dict[band][masks_dict[class_name]]# subtracting mean is not necessary if using np.cov\n",
    "    data_dict[class_name] = x\n",
    "\n",
    "    # Calculate covariance\n",
    "    cov_dict[class_name] = np.cov(x)\n",
    "    \n",
    "    \n"
   ]
  },
  {
   "cell_type": "code",
   "execution_count": 8,
   "metadata": {},
   "outputs": [
    {
     "data": {
      "text/plain": [
       "(82132,)"
      ]
     },
     "execution_count": 8,
     "metadata": {},
     "output_type": "execute_result"
    }
   ],
   "source": [
    "s0, s1 = img_dict[band].shape\n",
    "s0 * s1, rgb.shape, masks_dict[class_name].sum()\n",
    "img_dict[band][masks_dict[class_name]].shape"
   ]
  },
  {
   "cell_type": "code",
   "execution_count": 4,
   "metadata": {},
   "outputs": [
    {
     "data": {
      "text/plain": [
       "(10, 82132)"
      ]
     },
     "execution_count": 4,
     "metadata": {},
     "output_type": "execute_result"
    }
   ],
   "source": [
    "# x = np.zeros((len(band_names), masks_dict[class_name].sum()))\n",
    "x.shape\n",
    "class_name\n",
    "np.sum(x == 0)\n",
    "np.sum(masks_dict[class_name])\n",
    "data_dict['rock'].shape\n"
   ]
  },
  {
   "cell_type": "code",
   "execution_count": 7,
   "metadata": {
    "tags": []
   },
   "outputs": [
    {
     "name": "stdout",
     "output_type": "stream",
     "text": [
      "\n",
      "Processing class forest...\n"
     ]
    },
    {
     "name": "stderr",
     "output_type": "stream",
     "text": [
      "100%|█████████████████████████████████████████████████████████████████████████████████████████████████████████████████████████████| 2861/2861 [00:50<00:00, 56.85it/s]\n"
     ]
    },
    {
     "name": "stdout",
     "output_type": "stream",
     "text": [
      "\n",
      "Processing class water...\n"
     ]
    },
    {
     "name": "stderr",
     "output_type": "stream",
     "text": [
      "100%|█████████████████████████████████████████████████████████████████████████████████████████████████████████████████████████████| 2861/2861 [00:53<00:00, 53.85it/s]\n"
     ]
    },
    {
     "name": "stdout",
     "output_type": "stream",
     "text": [
      "\n",
      "Processing class clouds...\n"
     ]
    },
    {
     "name": "stderr",
     "output_type": "stream",
     "text": [
      "100%|█████████████████████████████████████████████████████████████████████████████████████████████████████████████████████████████| 2861/2861 [00:50<00:00, 57.07it/s]\n"
     ]
    },
    {
     "name": "stdout",
     "output_type": "stream",
     "text": [
      "\n",
      "Processing class fields (green)...\n"
     ]
    },
    {
     "name": "stderr",
     "output_type": "stream",
     "text": [
      "100%|█████████████████████████████████████████████████████████████████████████████████████████████████████████████████████████████| 2861/2861 [00:50<00:00, 56.28it/s]\n"
     ]
    },
    {
     "name": "stdout",
     "output_type": "stream",
     "text": [
      "\n",
      "Processing class fields (brown)...\n"
     ]
    },
    {
     "name": "stderr",
     "output_type": "stream",
     "text": [
      "100%|█████████████████████████████████████████████████████████████████████████████████████████████████████████████████████████████| 2861/2861 [00:51<00:00, 55.60it/s]\n"
     ]
    },
    {
     "name": "stdout",
     "output_type": "stream",
     "text": [
      "\n",
      "Processing class cities...\n"
     ]
    },
    {
     "name": "stderr",
     "output_type": "stream",
     "text": [
      "100%|█████████████████████████████████████████████████████████████████████████████████████████████████████████████████████████████| 2861/2861 [00:49<00:00, 57.24it/s]\n"
     ]
    },
    {
     "name": "stdout",
     "output_type": "stream",
     "text": [
      "\n",
      "Processing class snow...\n"
     ]
    },
    {
     "name": "stderr",
     "output_type": "stream",
     "text": [
      "100%|█████████████████████████████████████████████████████████████████████████████████████████████████████████████████████████████| 2861/2861 [00:51<00:00, 55.46it/s]\n"
     ]
    },
    {
     "name": "stdout",
     "output_type": "stream",
     "text": [
      "\n",
      "Processing class rock...\n"
     ]
    },
    {
     "name": "stderr",
     "output_type": "stream",
     "text": [
      "100%|█████████████████████████████████████████████████████████████████████████████████████████████████████████████████████████████| 2861/2861 [00:50<00:00, 56.56it/s]\n"
     ]
    }
   ],
   "source": [
    "# Calculate the pixel probabilities for each class\n",
    "\n",
    "# Stack all bands into a single \"image\"\n",
    "stack = np.zeros((img_dict[band_names[0]].shape[0], img_dict[band_names[0]].shape[1], len(band_names)))\n",
    "for i, band in enumerate(band_names):\n",
    "    stack[:,:,i] = img_dict[band]\n",
    "\n",
    "# Form a matrix where each row represent a pixel\n",
    "stack_vec = stack.reshape(-1,len(band_names)) # matrix form for parallel processing of pixels\n",
    "\n",
    "\n",
    "# Get per pixel class unnormalized probabilities\n",
    "probs = np.zeros((img_dict[band_names[0]].shape[0], img_dict[band_names[0]].shape[1], len(classes_dict)))\n",
    "# probs_scipy = np.zeros((img_dict[band_names[0]].shape[0], img_dict[band_names[0]].shape[1], len(classes_dict)))\n",
    "for i, class_name in enumerate(classes_dict.keys()):\n",
    "    print(f'\\nProcessing class {class_name}...')\n",
    "\n",
    "    ################################################################################\n",
    "    # Fast version using scipy\n",
    "    # IMPORTANT: the scipy approach here will not be evaluated, it should only be used to check your results if you want.\n",
    "\n",
    "#     probs_vec = multivariate_normal.pdf(stack_vec, mean=mean_dict[class_name], cov=cov_dict[class_name])\n",
    "#     probs_scipy[:,:,i] = np.reshape(probs_vec, stack.shape[:2])\n",
    "\n",
    "    ################################################################################\n",
    "    # Self coded version\n",
    "\n",
    "    # Go into utils.py and fill in the missing code\n",
    "    # Note: this should take around 10 minutes to process all classes.\n",
    "    probs[:,:,i] = utils.pdf(stack, mean_dict[class_name], cov_dict[class_name])\n",
    "\n",
    "# Normalize probabilities per pixel\n",
    "# Be careful not to divide by 0\n",
    "# probs = 'FILL_IN_YOUR_CODE_HERE'\n",
    "\n",
    "s = np.sum(probs, axis=-1) + 1e-10\n",
    "for i in range(8):\n",
    "    probs[:, :, i] /= s\n"
   ]
  },
  {
   "cell_type": "code",
   "execution_count": 20,
   "metadata": {},
   "outputs": [
    {
     "name": "stderr",
     "output_type": "stream",
     "text": [
      "/tmp/ipykernel_15414/723749962.py:4: RuntimeWarning: invalid value encountered in true_divide\n",
      "  probs[:, :, i] /= s\n"
     ]
    },
    {
     "data": {
      "text/plain": [
       "array([[[7.91096441e-167, 0.00000000e+000, 1.67218124e-001, ...,\n",
       "         8.32781439e-001, 0.00000000e+000, 4.36716756e-007],\n",
       "        [2.43500948e-099, 0.00000000e+000, 6.25400431e-002, ...,\n",
       "         9.37459739e-001, 0.00000000e+000, 2.18102402e-007],\n",
       "        [5.81788488e-073, 0.00000000e+000, 8.59344652e-002, ...,\n",
       "         9.14064300e-001, 0.00000000e+000, 1.23511389e-006],\n",
       "        ...,\n",
       "        [6.64112777e-001, 0.00000000e+000, 4.60031286e-005, ...,\n",
       "         3.32603222e-001, 0.00000000e+000, 6.37670299e-009],\n",
       "        [1.23191590e-004, 0.00000000e+000, 7.49004938e-006, ...,\n",
       "         2.41478781e-002, 0.00000000e+000, 3.70625001e-008],\n",
       "        [1.11013964e-009, 0.00000000e+000, 2.39279122e-008, ...,\n",
       "         1.79221681e-004, 0.00000000e+000, 9.26439055e-012]],\n",
       "\n",
       "       [[7.14654347e-122, 0.00000000e+000, 1.71053530e-004, ...,\n",
       "         9.99828946e-001, 0.00000000e+000, 1.02114398e-012],\n",
       "        [1.97992014e-061, 0.00000000e+000, 1.13077965e-006, ...,\n",
       "         9.99998869e-001, 0.00000000e+000, 2.96145401e-016],\n",
       "        [3.85370188e-040, 0.00000000e+000, 6.99691570e-003, ...,\n",
       "         3.68448540e-001, 0.00000000e+000, 4.84597395e-009],\n",
       "        ...,\n",
       "        [1.12484620e-002, 0.00000000e+000, 5.29127757e-005, ...,\n",
       "         8.58709027e-001, 0.00000000e+000, 6.49850666e-011],\n",
       "        [1.53708729e-005, 0.00000000e+000, 4.12270956e-006, ...,\n",
       "         5.17751479e-003, 0.00000000e+000, 1.05180521e-007],\n",
       "        [5.83649298e-006, 0.00000000e+000, 9.84725112e-007, ...,\n",
       "         1.80050195e-003, 0.00000000e+000, 1.34714512e-010]],\n",
       "\n",
       "       [[4.82916366e-031, 0.00000000e+000, 3.13265561e-007, ...,\n",
       "         9.99999687e-001, 0.00000000e+000, 1.21153068e-014],\n",
       "        [2.00568792e-016, 0.00000000e+000, 6.72356049e-006, ...,\n",
       "         9.99814376e-001, 0.00000000e+000, 2.10056052e-010],\n",
       "        [1.28753971e-031, 0.00000000e+000, 1.82352532e-006, ...,\n",
       "         3.07553760e-002, 0.00000000e+000, 2.16695150e-014],\n",
       "        ...,\n",
       "        [1.67210983e-003, 0.00000000e+000, 3.25685689e-005, ...,\n",
       "         4.10187816e-002, 0.00000000e+000, 1.65221990e-008],\n",
       "        [6.77255162e-005, 0.00000000e+000, 2.85121023e-006, ...,\n",
       "         4.89459935e-003, 0.00000000e+000, 2.30859180e-010],\n",
       "        [3.22185701e-007, 0.00000000e+000, 5.53102396e-008, ...,\n",
       "         1.02252670e-003, 0.00000000e+000, 1.15789990e-013]],\n",
       "\n",
       "       ...,\n",
       "\n",
       "       [[6.20085486e-003, 0.00000000e+000, 2.24313592e-002, ...,\n",
       "         9.71367764e-001, 0.00000000e+000, 2.20677501e-008],\n",
       "        [9.59257831e-001, 0.00000000e+000, 5.17797072e-008, ...,\n",
       "         4.07421167e-002, 0.00000000e+000, 7.64769995e-017],\n",
       "        [1.42584787e-003, 0.00000000e+000, 1.23120341e-012, ...,\n",
       "         9.98574152e-001, 0.00000000e+000, 9.84060074e-022],\n",
       "        ...,\n",
       "        [2.14442213e-116, 0.00000000e+000, 8.28579576e-001, ...,\n",
       "         3.04815869e-002, 7.53151480e-162, 5.31566170e-002],\n",
       "        [9.89824218e-237, 0.00000000e+000, 4.27415974e-001, ...,\n",
       "         1.98140169e-004, 1.39324776e-061, 5.72385886e-001],\n",
       "        [0.00000000e+000, 0.00000000e+000, 1.68704811e-001, ...,\n",
       "         1.49183901e-005, 2.01016227e-009, 8.31280268e-001]],\n",
       "\n",
       "       [[1.12596780e-004, 0.00000000e+000, 4.22295378e-002, ...,\n",
       "         9.57657604e-001, 3.22948056e-308, 2.61463067e-007],\n",
       "        [5.68057188e-004, 0.00000000e+000, 9.21908648e-007, ...,\n",
       "         9.99431021e-001, 0.00000000e+000, 9.44280090e-017],\n",
       "        [1.59102721e-001, 0.00000000e+000, 1.40021253e-007, ...,\n",
       "         8.40897125e-001, 0.00000000e+000, 7.85991001e-028],\n",
       "        ...,\n",
       "        [9.62881427e-113, 0.00000000e+000, 6.61923921e-001, ...,\n",
       "         4.18668223e-002, 1.16279623e-163, 2.68455258e-003],\n",
       "        [7.80889540e-225, 0.00000000e+000, 9.87976122e-001, ...,\n",
       "         3.10802921e-004, 2.65313830e-082, 1.17130748e-002],\n",
       "        [0.00000000e+000, 0.00000000e+000, 5.22489978e-001, ...,\n",
       "         7.94531405e-006, 3.31087073e-009, 4.77502073e-001]],\n",
       "\n",
       "       [[7.37455876e-005, 0.00000000e+000, 5.68293341e-004, ...,\n",
       "         9.99357618e-001, 3.71921160e-291, 3.42665070e-007],\n",
       "        [7.35076783e-005, 0.00000000e+000, 7.96211362e-013, ...,\n",
       "         9.99926492e-001, 0.00000000e+000, 2.09315223e-017],\n",
       "        [2.27010595e-001, 0.00000000e+000, 4.80360636e-008, ...,\n",
       "         7.72989357e-001, 0.00000000e+000, 9.47220946e-021],\n",
       "        ...,\n",
       "        [1.14023140e-200, 0.00000000e+000, 9.45261073e-001, ...,\n",
       "         1.58786433e-002, 4.92597429e-074, 3.88602410e-002],\n",
       "        [2.85519244e-194, 0.00000000e+000, 8.86326859e-001, ...,\n",
       "         8.11129518e-005, 7.98249551e-121, 1.13592028e-001],\n",
       "        [2.66698549e-311, 0.00000000e+000, 8.36615807e-001, ...,\n",
       "         7.13820150e-005, 6.45517027e-038, 1.63312811e-001]]])"
      ]
     },
     "execution_count": 20,
     "metadata": {},
     "output_type": "execute_result"
    }
   ],
   "source": [
    "np.sum(probs[0][0] / np.sum(probs[0][0]))\n",
    "s = np.sum(probs, axis=-1)\n",
    "for i in range(8):\n",
    "    probs[:, :, i] /= s\n",
    "probs"
   ]
  },
  {
   "cell_type": "code",
   "execution_count": 47,
   "metadata": {},
   "outputs": [
    {
     "data": {
      "text/plain": [
       "array([[1., 1., 1., ..., 1., 1., 1.],\n",
       "       [1., 1., 1., ..., 1., 1., 1.],\n",
       "       [1., 1., 1., ..., 1., 1., 1.],\n",
       "       ...,\n",
       "       [1., 1., 1., ..., 1., 1., 1.],\n",
       "       [1., 1., 1., ..., 1., 1., 1.],\n",
       "       [1., 1., 1., ..., 1., 1., 1.]])"
      ]
     },
     "execution_count": 47,
     "metadata": {},
     "output_type": "execute_result"
    }
   ],
   "source": [
    "# np.argmax(probs[:, :, ])\n",
    "n = 8\n",
    "1. - (np.max(probs, axis=-1) - np.sum(probs, axis=-1) / n) / (1 - 1./n)\n",
    "# np.sum(probs, axis=-1).shape\n",
    "# class_name\n",
    "np.sum(probs, axis=-1)"
   ]
  },
  {
   "cell_type": "code",
   "execution_count": 21,
   "metadata": {
    "tags": []
   },
   "outputs": [
    {
     "name": "stderr",
     "output_type": "stream",
     "text": [
      "Lossy conversion from float64 to uint8. Range [0, 1]. Convert image to uint8 prior to saving to suppress this warning.\n",
      "Lossy conversion from float64 to uint8. Range [0, 1]. Convert image to uint8 prior to saving to suppress this warning.\n",
      "Lossy conversion from float64 to uint8. Range [0, 1]. Convert image to uint8 prior to saving to suppress this warning.\n",
      "Lossy conversion from float64 to uint8. Range [0, 1]. Convert image to uint8 prior to saving to suppress this warning.\n",
      "Lossy conversion from float64 to uint8. Range [0, 1]. Convert image to uint8 prior to saving to suppress this warning.\n",
      "Lossy conversion from float64 to uint8. Range [0, 1]. Convert image to uint8 prior to saving to suppress this warning.\n",
      "Lossy conversion from float64 to uint8. Range [0, 1]. Convert image to uint8 prior to saving to suppress this warning.\n",
      "Lossy conversion from float64 to uint8. Range [0, 1]. Convert image to uint8 prior to saving to suppress this warning.\n"
     ]
    }
   ],
   "source": [
    "for i, class_name in enumerate(classes_dict.keys()):\n",
    "    io.imsave(f'outputs/01-0{i+1}-{class_name}.png', probs[:,:,i])"
   ]
  },
  {
   "cell_type": "code",
   "execution_count": 42,
   "metadata": {},
   "outputs": [
    {
     "name": "stderr",
     "output_type": "stream",
     "text": [
      "/tmp/ipykernel_15414/2308104301.py:4: UserWarning: outputs/02-max_likelihood.png is a low contrast image\n",
      "  io.imsave(f'outputs/02-max_likelihood.png', max_likelihood.astype('uint8'))\n",
      "Lossy conversion from float64 to uint8. Range [0, 1]. Convert image to uint8 prior to saving to suppress this warning.\n"
     ]
    }
   ],
   "source": [
    "# Harden: find the class (index) with the highest likelihood at each pixel\n",
    "# Note: indices are 0-7 and classes are 1-8. You  should fix this before saving the result\n",
    "max_likelihood = np.argmax(probs, axis=-1) + 1\n",
    "io.imsave(f'outputs/02-max_likelihood.png', max_likelihood.astype('uint8'))\n",
    "\n",
    "n = 8\n",
    "\n",
    "# Uncertainty map: calculate the uncertainty at each pixel using the provided formula\n",
    "uncertainty_map = 1. - (np.max(probs, axis=-1) - np.sum(probs, axis=-1) / n) / (1 - 1./n)\n",
    "io.imsave(f'outputs/03-uncertainty_map.png', uncertainty_map)"
   ]
  },
  {
   "cell_type": "markdown",
   "metadata": {},
   "source": [
    "# Support Vector Machine (SVM)"
   ]
  },
  {
   "cell_type": "code",
   "execution_count": 71,
   "metadata": {},
   "outputs": [
    {
     "name": "stderr",
     "output_type": "stream",
     "text": [
      "/tmp/ipykernel_15414/2208766387.py:27: UserWarning: outputs/04-svm.png is a low contrast image\n",
      "  io.imsave(f'outputs/04-svm.png', svm_out.astype('uint8'))\n"
     ]
    }
   ],
   "source": [
    "\n",
    "# Organize inputs and outputs\n",
    "\n",
    "# Only labelled pixels should be used for training the SVM\n",
    "X = np.zeros((0,len(band_names))) # each row represents a pixel, each column contains that pixel's brightness in each channel\n",
    "y = np.zeros(0) # class number of each pixel\n",
    "for i, class_name in enumerate(classes_dict.keys()):\n",
    "    # Tip: variable stack already contains the stacked images\n",
    "    # Concatenate to X all the pixels in class class_name\n",
    "    X = np.concatenate((X, stack[masks_dict[class_name]]))\n",
    "\n",
    "    # Concatenate to y the class index i the appropriate number of times (the same number of rows that were added to X)\n",
    "    y = np.concatenate((y, (masks_dict[class_name][masks_dict[class_name]] * i)))\n",
    "\n",
    "# Create SVM object using LinearSVC\n",
    "svm = LinearSVC()\n",
    "\n",
    "# Fit SVM to data using svm.fit\n",
    "svm = svm.fit(X, y)\n",
    "\n",
    "# Predict labels for all pixels using svm.predict and reshape to recopver image structure\n",
    "# Data is already organised in stack_vec\n",
    "# Predictions are made in a vectorized form, and need to be reshaped into image form\n",
    "# Note: indices are 0-7 and classes are 1-8. You  should fix this before saving the result\n",
    "# Use svm.predict to predict the class of each row in a matrix\n",
    "svm_out = svm.predict(stack_vec) + 1\n",
    "svm_out = np.reshape(svm_out, ((2861, 2870)))\n",
    "io.imsave(f'outputs/04-svm.png', svm_out.astype('uint8'))"
   ]
  },
  {
   "cell_type": "code",
   "execution_count": 70,
   "metadata": {},
   "outputs": [
    {
     "data": {
      "text/plain": [
       "{'forest': 1,\n",
       " 'water': 2,\n",
       " 'clouds': 3,\n",
       " 'fields (green)': 4,\n",
       " 'fields (brown)': 5,\n",
       " 'cities': 6,\n",
       " 'snow': 7,\n",
       " 'rock': 8}"
      ]
     },
     "execution_count": 70,
     "metadata": {},
     "output_type": "execute_result"
    }
   ],
   "source": [
    "classes_dict\n"
   ]
  },
  {
   "cell_type": "code",
   "execution_count": null,
   "metadata": {},
   "outputs": [],
   "source": []
  }
 ],
 "metadata": {
  "kernelspec": {
   "display_name": "Python 3",
   "language": "python",
   "name": "python3"
  },
  "language_info": {
   "codemirror_mode": {
    "name": "ipython",
    "version": 3
   },
   "file_extension": ".py",
   "mimetype": "text/x-python",
   "name": "python",
   "nbconvert_exporter": "python",
   "pygments_lexer": "ipython3",
   "version": "3.8.13"
  }
 },
 "nbformat": 4,
 "nbformat_minor": 2
}
