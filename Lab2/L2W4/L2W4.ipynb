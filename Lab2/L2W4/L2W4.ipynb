{
 "cells": [
  {
   "cell_type": "code",
   "execution_count": 1,
   "metadata": {},
   "outputs": [
    {
     "name": "stdout",
     "output_type": "stream",
     "text": [
      "Imports OK\n"
     ]
    }
   ],
   "source": [
    "# Rodrigo Caye Daudt\n",
    "# rodrigo.cayedaudt@geod.baug.ethz.ch\n",
    "# 05/2021\n",
    "\n",
    "import numpy as np\n",
    "from skimage import io\n",
    "import os\n",
    "from sklearn.metrics import confusion_matrix\n",
    "import sys\n",
    "from pprint import pprint\n",
    "\n",
    "if not os.path.exists('./outputs'):\n",
    "    os.mkdir('./outputs')\n",
    "\n",
    "print('Imports OK')"
   ]
  },
  {
   "cell_type": "code",
   "execution_count": 2,
   "metadata": {},
   "outputs": [
    {
     "name": "stdout",
     "output_type": "stream",
     "text": [
      "Loading images OK\n"
     ]
    }
   ],
   "source": [
    "# Load images and vectorize\n",
    "\n",
    "# Ground truth and mask of valid labelled pixels\n",
    "gt = io.imread('data/test_data.tif')\n",
    "valid_mask = gt > 0\n",
    "\n",
    "# Bayes result from L2W2\n",
    "bayes = io.imread('../L2W2/outputs/02-max_likelihood.png')\n",
    "\n",
    "# SVM result from L2W2\n",
    "svm = io.imread('../L2W2/outputs/04-svm.png')\n",
    "\n",
    "# Extract valid pixels\n",
    "gt_vec = gt[valid_mask]\n",
    "bayes_vec = bayes[valid_mask]\n",
    "svm_vec = svm[valid_mask]\n",
    "\n",
    "print('Loading images OK')"
   ]
  },
  {
   "cell_type": "code",
   "execution_count": 3,
   "metadata": {},
   "outputs": [
    {
     "data": {
      "text/plain": [
       "(8210,)"
      ]
     },
     "execution_count": 3,
     "metadata": {},
     "output_type": "execute_result"
    }
   ],
   "source": [
    "bayes_vec.shape\n",
    "svm_vec.shape\n",
    "gt_vec.shape"
   ]
  },
  {
   "cell_type": "code",
   "execution_count": 4,
   "metadata": {},
   "outputs": [
    {
     "data": {
      "text/plain": [
       "(array([4, 4, 4, ..., 7, 7, 7], dtype=uint8),\n",
       " array([1, 4, 4, ..., 7, 7, 7], dtype=uint8),\n",
       " (array([1, 2, 3, 4, 5, 6, 7, 8], dtype=uint8),\n",
       "  array([ 962,  876, 1016,  981,  889, 1054, 1169, 1263])))"
      ]
     },
     "execution_count": 4,
     "metadata": {},
     "output_type": "execute_result"
    }
   ],
   "source": [
    "gt_vec, bayes_vec, np.unique(gt_vec, return_counts=True)"
   ]
  },
  {
   "cell_type": "code",
   "execution_count": 5,
   "metadata": {},
   "outputs": [
    {
     "name": "stdout",
     "output_type": "stream",
     "text": [
      "Confusion matrices OK\n"
     ]
    },
    {
     "data": {
      "text/plain": [
       "(array([[ 935,    0,    0,    3,    0,   24,    0,    0],\n",
       "        [   0,  568,    0,    0,    0,  287,   15,    6],\n",
       "        [   0,    0, 1014,    0,    0,    1,    0,    1],\n",
       "        [ 110,    0,    0,  844,    7,   20,    0,    0],\n",
       "        [   0,    0,    0,   10,  831,   48,    0,    0],\n",
       "        [  64,    0,   27,    3,   18,  883,    1,   58],\n",
       "        [   0,    0,    0,    0,    0,    0, 1070,   99],\n",
       "        [   0,    0,  133,    0,    0,   53,   26, 1051]]),\n",
       " array([[ 730,   52,    0,    0,    0,  178,    0,    2],\n",
       "        [   4,  848,    0,    0,    0,   19,    0,    5],\n",
       "        [   0,    0, 1011,    0,    0,    1,    0,    4],\n",
       "        [ 320,    0,    0,  352,    0,  309,    0,    0],\n",
       "        [   0,    0,    0,    0,    0,  874,    0,   15],\n",
       "        [  34,    0,   34,    0,    0,  591,    1,  394],\n",
       "        [   0,    0,    0,    0,    0,    0, 1137,   32],\n",
       "        [   0,    0,   42,    0,    0,  233,   96,  892]]))"
      ]
     },
     "execution_count": 5,
     "metadata": {},
     "output_type": "execute_result"
    }
   ],
   "source": [
    "# Compute confusion matrices using sklearn.metrics.confusion_matrix\n",
    "# https://scikit-learn.org/stable/modules/generated/sklearn.metrics.confusion_matrix.html\n",
    "# Do not mix y_true and y_pred\n",
    "\n",
    "cm_bayes = confusion_matrix(gt_vec, bayes_vec, labels=[i for i in range(1, 9)])\n",
    "cm_svm = confusion_matrix(gt_vec, svm_vec, labels=[i for i in range(1, 9)])\n",
    "# Confusion matrices are indexed so that you can access values using cm[true_label-1, pred_label-1]\n",
    "\n",
    "print('Confusion matrices OK')\n",
    "cm_bayes, cm_svm"
   ]
  },
  {
   "cell_type": "markdown",
   "metadata": {},
   "source": [
    "`cm[i][j]`: # samples belong to class i, while predicted j"
   ]
  },
  {
   "cell_type": "code",
   "execution_count": 6,
   "metadata": {},
   "outputs": [
    {
     "name": "stdout",
     "output_type": "stream",
     "text": [
      "Metrics OK\n"
     ]
    }
   ],
   "source": [
    "eps = 1e-8\n",
    "# Calculate producer's, user's, and overall accuracy\n",
    "# np.diag and np.sum(array, axis=axis) are useful here\n",
    "\n",
    "# Number of annotated examples per class (TP + FN)\n",
    "gt_per_class = np.sum(cm_bayes, axis=1) # same for both classes\n",
    "\n",
    "# True positives per class (TP)\n",
    "true_positives_bayes = np.diag(cm_bayes)\n",
    "true_positives_svm = np.diag(cm_svm)\n",
    "\n",
    "# Number of total predictions per class (TP + FP)\n",
    "pred_per_class_bayes = np.sum(cm_bayes, axis=0)\n",
    "pred_per_class_svm = np.sum(cm_svm, axis=0)\n",
    "\n",
    "\n",
    "# Overall accuracy (one value per classifier)\n",
    "overall_accuracy_bayes = np.sum(true_positives_bayes) / (np.sum(pred_per_class_bayes) + eps)\n",
    "overall_accuracy_svm = np.sum(true_positives_svm) / (np.sum(pred_per_class_svm) + eps)\n",
    "\n",
    "# Producer's accuracy (one value per class per classifier)\n",
    "producers_accuracy_bayes = np.diag(cm_bayes) / (np.sum((cm_bayes), axis=1) + eps)\n",
    "producers_accuracy_svm = np.diag(cm_svm) / (np.sum((cm_svm), axis=0) + eps)\n",
    "\n",
    "# User's accuracy (one value per class per classifier)\n",
    "users_accuracy_bayes = np.diag(cm_bayes) / (np.sum((cm_bayes), axis=1) + eps)\n",
    "users_accuracy_svm = np.diag(cm_svm) / (np.sum((cm_svm), axis=1) + eps)\n",
    "\n",
    "\n",
    "print('Metrics OK')\n"
   ]
  },
  {
   "cell_type": "code",
   "execution_count": 8,
   "metadata": {},
   "outputs": [
    {
     "data": {
      "text/plain": [
       "(array([0.97193347, 0.64840183, 0.9980315 , 0.86034659, 0.93475816,\n",
       "        0.83776091, 0.91531223, 0.83214568]),\n",
       " array([0.84310189, 1.        , 0.8637138 , 0.98139535, 0.97079439,\n",
       "        0.67097264, 0.96223022, 0.86502058]))"
      ]
     },
     "execution_count": 8,
     "metadata": {},
     "output_type": "execute_result"
    }
   ],
   "source": [
    "pred_per_class_bayes\n",
    "np.sum((1- producers_accuracy_bayes) * (1 - users_accuracy_bayes))\n",
    "users_accuracy_bayes, producers_accuracy_bayes"
   ]
  },
  {
   "cell_type": "code",
   "execution_count": 16,
   "metadata": {},
   "outputs": [
    {
     "data": {
      "text/plain": [
       "(0.8744939271255061, array([1109,  568, 1174,  857,  849,  936, 1096, 1051]))"
      ]
     },
     "execution_count": 16,
     "metadata": {},
     "output_type": "execute_result"
    }
   ],
   "source": [
    "(0.876 - 0.012) / (1 - 0.012),np.sum( np.tril(cm_bayes), axis=0)"
   ]
  },
  {
   "cell_type": "code",
   "execution_count": 35,
   "metadata": {},
   "outputs": [
    {
     "name": "stdout",
     "output_type": "stream",
     "text": [
      "Outputs saved to outputs/metrics.txt\n"
     ]
    }
   ],
   "source": [
    "# Print metrics to output file\n",
    "\n",
    "output_file_name = 'outputs/metrics.txt'\n",
    "if os.path.exists(output_file_name):\n",
    "    os.remove(output_file_name)\n",
    "\n",
    "original_stdout = sys.stdout\n",
    "with open(output_file_name, 'w') as f:\n",
    "    sys.stdout = f\n",
    "\n",
    "    print('Bayes rule classifier\\n')\n",
    "    print(f'Overall accuracy: {overall_accuracy_bayes}')\n",
    "    print(f'Producer\\'s accuracy: {producers_accuracy_bayes}')\n",
    "    print(f'User\\'s accuracy: {users_accuracy_bayes}')\n",
    "    print(f'Confusion matrix:')\n",
    "    pprint(cm_bayes)\n",
    "\n",
    "    print('\\n\\n' + '='*80)\n",
    "\n",
    "    print('Support vector machine\\n')\n",
    "    print(f'Overall accuracy: {overall_accuracy_svm}')\n",
    "    print(f'Producer\\'s accuracy: {producers_accuracy_svm}')\n",
    "    print(f'User\\'s accuracy: {users_accuracy_svm}')\n",
    "    print(f'Confusion matrix:')\n",
    "    pprint(cm_svm)\n",
    "\n",
    "    sys.stdout = original_stdout\n",
    "\n",
    "print(f'Outputs saved to {output_file_name}')"
   ]
  },
  {
   "cell_type": "markdown",
   "metadata": {},
   "source": [
    "{'forest': 1,\n",
    " 'water': 2,\n",
    " 'clouds': 3,\n",
    " 'fields (green)': 4,\n",
    " 'fields (brown)': 5,\n",
    " 'cities': 6,\n",
    " 'snow': 7,\n",
    " 'rock': 8}"
   ]
  },
  {
   "cell_type": "code",
   "execution_count": 60,
   "metadata": {},
   "outputs": [
    {
     "data": {
      "text/plain": [
       "(array([ 24, 287,   1, 110,  48,  64,  99, 133]),\n",
       " array([6, 6, 6, 1, 6, 1, 8, 3]),\n",
       " array([[  0,   0,   0,   3,   0,  24,   0,   0],\n",
       "        [  0,   0,   0,   0,   0, 287,  15,   6],\n",
       "        [  0,   0,   0,   0,   0,   1,   0,   1],\n",
       "        [110,   0,   0,   0,   7,  20,   0,   0],\n",
       "        [  0,   0,   0,  10,   0,  48,   0,   0],\n",
       "        [ 64,   0,  27,   3,  18,   0,   1,  58],\n",
       "        [  0,   0,   0,   0,   0,   0,   0,  99],\n",
       "        [  0,   0, 133,   0,   0,  53,  26,   0]]))"
      ]
     },
     "execution_count": 60,
     "metadata": {},
     "output_type": "execute_result"
    }
   ],
   "source": [
    "conf_bayes = cm_bayes - np.diag(np.diag(cm_bayes))\n",
    "conf_svm = cm_svm - np.diag(np.diag(cm_svm))\n",
    "conf_bayes, conf_svm\n",
    "np.max(conf_bayes, axis=1), np.argmax(conf_bayes, axis=1) + 1, conf_bayes"
   ]
  },
  {
   "cell_type": "code",
   "execution_count": 54,
   "metadata": {},
   "outputs": [],
   "source": [
    "np.fill_diagonal(np.zeros((8, 8)), np.diag(cm_bayes))"
   ]
  },
  {
   "cell_type": "code",
   "execution_count": 55,
   "metadata": {},
   "outputs": [
    {
     "data": {
      "text/plain": [
       "array([[ 935,    0,    0,    0,    0,    0,    0,    0],\n",
       "       [   0,  568,    0,    0,    0,    0,    0,    0],\n",
       "       [   0,    0, 1014,    0,    0,    0,    0,    0],\n",
       "       [   0,    0,    0,  844,    0,    0,    0,    0],\n",
       "       [   0,    0,    0,    0,  831,    0,    0,    0],\n",
       "       [   0,    0,    0,    0,    0,  883,    0,    0],\n",
       "       [   0,    0,    0,    0,    0,    0, 1070,    0],\n",
       "       [   0,    0,    0,    0,    0,    0,    0, 1051]])"
      ]
     },
     "execution_count": 55,
     "metadata": {},
     "output_type": "execute_result"
    }
   ],
   "source": [
    "np.diag(np.diag(cm_bayes))"
   ]
  },
  {
   "cell_type": "code",
   "execution_count": null,
   "metadata": {},
   "outputs": [],
   "source": []
  }
 ],
 "metadata": {
  "kernelspec": {
   "display_name": "Python 3",
   "language": "python",
   "name": "python3"
  },
  "language_info": {
   "codemirror_mode": {
    "name": "ipython",
    "version": 3
   },
   "file_extension": ".py",
   "mimetype": "text/x-python",
   "name": "python",
   "nbconvert_exporter": "python",
   "pygments_lexer": "ipython3",
   "version": "3.9.7"
  }
 },
 "nbformat": 4,
 "nbformat_minor": 2
}
